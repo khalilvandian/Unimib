{
 "cells": [
  {
   "cell_type": "code",
   "execution_count": 5,
   "id": "d88d96e4-1571-411a-bf23-0674c1c3357a",
   "metadata": {},
   "outputs": [
    {
     "name": "stdout",
     "output_type": "stream",
     "text": [
      "{'href': '/page/2/'}\n"
     ]
    }
   ],
   "source": [
    "from bs4 import BeautifulSoup\n",
    "import requests\n",
    "\n",
    "base_url = \"http://quotes.toscrape.com\"\n",
    "response = requests.get(base_url)\n",
    "html_page = response.text\n",
    "\n",
    "html_tree = BeautifulSoup(html_page, \"html.parser\")\n",
    "\n",
    "# print(html_tree)\n",
    "\n",
    "# print(html_tree.head)\n",
    "\n",
    "# print(html_tree.title)\n",
    "# print(html_tree.title.string)\n",
    "\n",
    "# print(html_tree.find_all(\"div\", class_=\"quote\")[0].prettify())\n",
    "\n",
    "next_page_link = html_tree.find(\"li\", class_=\"next\").a\n",
    "print(next_page_link.attrs)\n",
    "\n",
    "page_2_relative_url = next_page_link['href']\n",
    "response = requests.get(f\"{base_url}{page_2_relative_url}\")\n",
    "html_page_2 = response.text\n",
    "html_tree_2 = BeautifulSoup(html_page_2, \"html.parser\")\n",
    "\n",
    "# print(html_tree_2.find(\"li\", class_=\"next\").a['href'])\n"
   ]
  },
  {
   "cell_type": "code",
   "execution_count": 2,
   "id": "370de33a-14d3-4160-8aa8-9232d72ff588",
   "metadata": {},
   "outputs": [],
   "source": [
    "from bs4 import BeautifulSoup\n",
    "\n",
    "\n",
    "# In[ ]:\n",
    "\n",
    "\n",
    "import requests\n",
    "\n",
    "\n",
    "# In[ ]:\n",
    "\n",
    "\n",
    "base_url = \"http://quotes.toscrape.com\"\n",
    "response = requests.get(base_url)\n",
    "html_page = response.text"
   ]
  },
  {
   "cell_type": "code",
   "execution_count": null,
   "id": "60410468-a4c3-468e-82ff-622d180753e6",
   "metadata": {},
   "outputs": [],
   "source": [
    "html_page"
   ]
  },
  {
   "cell_type": "code",
   "execution_count": 3,
   "id": "106f7407-f7f1-4975-9837-3c24623c1c28",
   "metadata": {},
   "outputs": [],
   "source": [
    "html_tree = BeautifulSoup(html_page)"
   ]
  },
  {
   "cell_type": "code",
   "execution_count": null,
   "id": "7c55ad0d-8a46-42d7-a30c-a73a758cac63",
   "metadata": {},
   "outputs": [],
   "source": [
    "html_tree"
   ]
  },
  {
   "cell_type": "code",
   "execution_count": 5,
   "id": "25623513-8b91-4d23-8709-a6a125509236",
   "metadata": {},
   "outputs": [
    {
     "name": "stdout",
     "output_type": "stream",
     "text": [
      "<head>\n",
      "<meta charset=\"utf-8\"/>\n",
      "<title>Quotes to Scrape</title>\n",
      "<link href=\"/static/bootstrap.min.css\" rel=\"stylesheet\"/>\n",
      "<link href=\"/static/main.css\" rel=\"stylesheet\"/>\n",
      "</head>\n",
      "<title>Quotes to Scrape</title>\n",
      "Quotes to Scrape\n"
     ]
    }
   ],
   "source": [
    "print(html_tree.head)\n",
    "print(html_tree.title)\n",
    "print(html_tree.title.string)\n"
   ]
  },
  {
   "cell_type": "code",
   "execution_count": 20,
   "id": "030889f3-8e27-463c-adba-140628dcfad3",
   "metadata": {},
   "outputs": [],
   "source": [
    "html_tree.head.string"
   ]
  },
  {
   "cell_type": "code",
   "execution_count": 19,
   "id": "a1f108df-98bc-4cf9-9a18-004073b462ee",
   "metadata": {},
   "outputs": [
    {
     "data": {
      "text/plain": [
       "'\\n\\nQuotes to Scrape\\n\\n\\n'"
      ]
     },
     "execution_count": 19,
     "metadata": {},
     "output_type": "execute_result"
    }
   ],
   "source": [
    "html_tree.head.text"
   ]
  },
  {
   "cell_type": "code",
   "execution_count": 5,
   "id": "c8e4dd6c-bba0-4dcf-baeb-30e56c926370",
   "metadata": {},
   "outputs": [
    {
     "data": {
      "text/plain": [
       "10"
      ]
     },
     "execution_count": 5,
     "metadata": {},
     "output_type": "execute_result"
    }
   ],
   "source": [
    "div = html_tree.find_all(\"div\", class_=\"quote\")\n",
    "len(div)"
   ]
  },
  {
   "cell_type": "code",
   "execution_count": 24,
   "id": "8887e25a-6753-478c-b10d-e8ca38b6b5a2",
   "metadata": {},
   "outputs": [
    {
     "data": {
      "text/plain": [
       "'<div class=\"quote\" itemscope=\"\" itemtype=\"http://schema.org/CreativeWork\">\\n <span class=\"text\" itemprop=\"text\">\\n  “It is our choices, Harry, that show what we truly are, far more than our abilities.”\\n </span>\\n <span>\\n  by\\n  <small class=\"author\" itemprop=\"author\">\\n   J.K. Rowling\\n  </small>\\n  <a href=\"/author/J-K-Rowling\">\\n   (about)\\n  </a>\\n </span>\\n <div class=\"tags\">\\n  Tags:\\n  <meta class=\"keywords\" content=\"abilities,choices\" itemprop=\"keywords\"/>\\n  <a class=\"tag\" href=\"/tag/abilities/page/1/\">\\n   abilities\\n  </a>\\n  <a class=\"tag\" href=\"/tag/choices/page/1/\">\\n   choices\\n  </a>\\n </div>\\n</div>\\n'"
      ]
     },
     "execution_count": 24,
     "metadata": {},
     "output_type": "execute_result"
    }
   ],
   "source": [
    "html_tree.find_all(\"div\", class_=\"quote\")[1].prettify()"
   ]
  },
  {
   "cell_type": "code",
   "execution_count": 30,
   "id": "9870af38-b466-45d2-a857-2a5874fff3a5",
   "metadata": {},
   "outputs": [
    {
     "data": {
      "text/plain": [
       "'Albert Einstein'"
      ]
     },
     "execution_count": 30,
     "metadata": {},
     "output_type": "execute_result"
    }
   ],
   "source": [
    "div0 = div[0]\n",
    "div0.find_all(\"small\")[0].text"
   ]
  },
  {
   "cell_type": "code",
   "execution_count": 49,
   "id": "e7e2b48c-b0aa-4b70-8e71-1c7903cea896",
   "metadata": {},
   "outputs": [
    {
     "data": {
      "text/plain": [
       "'“The world as we have created it is a process of our thinking. It cannot be changed without changing our thinking.”'"
      ]
     },
     "execution_count": 49,
     "metadata": {},
     "output_type": "execute_result"
    }
   ],
   "source": [
    "div0.find_all(\"span\", class_=\"text\")[0].text"
   ]
  },
  {
   "cell_type": "code",
   "execution_count": 6,
   "id": "dc2c988d-ffd0-4f24-94f6-1a22fa9a0362",
   "metadata": {},
   "outputs": [
    {
     "name": "stdout",
     "output_type": "stream",
     "text": [
      "Albert Einstein\n",
      "J.K. Rowling\n",
      "Albert Einstein\n",
      "Jane Austen\n",
      "Marilyn Monroe\n",
      "Albert Einstein\n",
      "André Gide\n",
      "Thomas A. Edison\n",
      "Eleanor Roosevelt\n",
      "Steve Martin\n"
     ]
    }
   ],
   "source": [
    "author_names = []\n",
    "for d in div:\n",
    "    name = d.find_all(\"small\")[0].text\n",
    "    print(name)\n",
    "    author_names.append(name)"
   ]
  },
  {
   "cell_type": "code",
   "execution_count": null,
   "id": "829a8cf1-05dc-4bfc-bd11-0de0229a0346",
   "metadata": {},
   "outputs": [],
   "source": [
    "temp = []\n",
    "for i in range(2,4):\n",
    "    html = requests.get(f\"http://quotes.toscrape.com/page/{i}\")\n",
    "    temp.append(html.text)"
   ]
  },
  {
   "cell_type": "code",
   "execution_count": 39,
   "id": "bef456aa-3891-466d-87cc-d5f244c74c69",
   "metadata": {},
   "outputs": [
    {
     "data": {
      "text/plain": [
       "{'href': '/page/2/'}"
      ]
     },
     "execution_count": 39,
     "metadata": {},
     "output_type": "execute_result"
    }
   ],
   "source": [
    "html_tree.find(\"li\", class_=\"next\").a.attrs"
   ]
  },
  {
   "cell_type": "code",
   "execution_count": null,
   "id": "675ba530-cc8a-4211-b3ec-8924e71ff1bb",
   "metadata": {},
   "outputs": [],
   "source": [
    "for name in author_names:\n",
    "    html = requests.get(f\"http://quotes.toscrape.com/author/{'-'.join(name.split())}\")\n",
    "    html_tree = BeautifulSoup(html.text)\n",
    "html_tree    "
   ]
  },
  {
   "cell_type": "code",
   "execution_count": 11,
   "id": "68b5cf10-900c-4013-8559-a1539926d634",
   "metadata": {},
   "outputs": [
    {
     "data": {
      "text/plain": [
       "'http://quotes.toscrape.com/author/Steve-Martin'"
      ]
     },
     "execution_count": 11,
     "metadata": {},
     "output_type": "execute_result"
    }
   ],
   "source": [
    "f\"http://quotes.toscrape.com/author/{'-'.join(name.split())}\""
   ]
  },
  {
   "cell_type": "code",
   "execution_count": null,
   "id": "4108df9c-729b-4483-913d-0dbd841850f4",
   "metadata": {},
   "outputs": [],
   "source": [
    "temp[1]"
   ]
  },
  {
   "cell_type": "code",
   "execution_count": 50,
   "id": "699d0c70-f6a2-4b39-86fc-138e75639a06",
   "metadata": {},
   "outputs": [
    {
     "data": {
      "text/plain": [
       "<div class=\"tags\">\n",
       "            Tags:\n",
       "            <meta class=\"keywords\" content=\"change,deep-thoughts,thinking,world\" itemprop=\"keywords\"/>\n",
       "<a class=\"tag\" href=\"/tag/change/page/1/\">change</a>\n",
       "<a class=\"tag\" href=\"/tag/deep-thoughts/page/1/\">deep-thoughts</a>\n",
       "<a class=\"tag\" href=\"/tag/thinking/page/1/\">thinking</a>\n",
       "<a class=\"tag\" href=\"/tag/world/page/1/\">world</a>\n",
       "</div>"
      ]
     },
     "execution_count": 50,
     "metadata": {},
     "output_type": "execute_result"
    }
   ],
   "source": [
    "div0 = div[0]\n",
    "div0.div"
   ]
  },
  {
   "cell_type": "code",
   "execution_count": 52,
   "id": "913b1894-e7c6-4faf-8aef-c0ff44d8156f",
   "metadata": {},
   "outputs": [
    {
     "data": {
      "text/plain": [
       "['change', 'deep-thoughts', 'thinking', 'world']"
      ]
     },
     "execution_count": 52,
     "metadata": {},
     "output_type": "execute_result"
    }
   ],
   "source": [
    "[a.text for a in div0.find_all(\"a\", class_=\"tag\")]"
   ]
  },
  {
   "cell_type": "code",
   "execution_count": null,
   "id": "059bb436-104e-47de-9175-0d0c3bd8e3db",
   "metadata": {},
   "outputs": [],
   "source": [
    "page_2_relative_url = html_tree.find(\"li\", class_=\"next\").a['href']\n",
    "response = requests.get(\"{}{}\".format(base_url, page_2_relative_url))\n",
    "html_page_2 = response.text\n",
    "html_tree_2 = BeautifulSoup(html_page_2)"
   ]
  },
  {
   "cell_type": "code",
   "execution_count": null,
   "id": "279cd104-9d65-454c-a60e-188f833cf178",
   "metadata": {},
   "outputs": [],
   "source": [
    "print(html_tree.find(\"li\", class_=\"next\").a['href'])\n",
    "html_tree.find_all(\"small\", attrs={'itemprop': \"author\"})\n"
   ]
  },
  {
   "cell_type": "code",
   "execution_count": 56,
   "id": "2b48f813-fabb-4039-8568-6ac531147611",
   "metadata": {},
   "outputs": [
    {
     "data": {
      "text/plain": [
       "'/page/2/'"
      ]
     },
     "execution_count": 56,
     "metadata": {},
     "output_type": "execute_result"
    }
   ],
   "source": [
    "html_tree.find(\"li\", class_=\"next\").a[\"href\"]"
   ]
  },
  {
   "cell_type": "code",
   "execution_count": 58,
   "id": "67d571dd-181f-4ad0-9640-16cb44b74ab2",
   "metadata": {},
   "outputs": [
    {
     "data": {
      "text/plain": [
       "['Albert Einstein',\n",
       " 'J.K. Rowling',\n",
       " 'Albert Einstein',\n",
       " 'Jane Austen',\n",
       " 'Marilyn Monroe',\n",
       " 'Albert Einstein',\n",
       " 'André Gide',\n",
       " 'Thomas A. Edison',\n",
       " 'Eleanor Roosevelt',\n",
       " 'Steve Martin']"
      ]
     },
     "execution_count": 58,
     "metadata": {},
     "output_type": "execute_result"
    }
   ],
   "source": [
    "[small.text for small in html_tree.find_all(\"small\", attrs={'itemprop': \"author\"})]"
   ]
  },
  {
   "cell_type": "code",
   "execution_count": null,
   "id": "9a6b75df-b998-45c0-bc48-c45e9a3b1438",
   "metadata": {},
   "outputs": [],
   "source": []
  }
 ],
 "metadata": {
  "kernelspec": {
   "display_name": "Python 3 (ipykernel)",
   "language": "python",
   "name": "python3"
  },
  "language_info": {
   "codemirror_mode": {
    "name": "ipython",
    "version": 3
   },
   "file_extension": ".py",
   "mimetype": "text/x-python",
   "name": "python",
   "nbconvert_exporter": "python",
   "pygments_lexer": "ipython3",
   "version": "3.11.5"
  }
 },
 "nbformat": 4,
 "nbformat_minor": 5
}

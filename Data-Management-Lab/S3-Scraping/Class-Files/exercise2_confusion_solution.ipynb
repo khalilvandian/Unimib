{
 "cells": [
  {
   "cell_type": "code",
   "execution_count": 1,
   "id": "bdd354b8-c95a-4cf0-8684-81ee62efa669",
   "metadata": {},
   "outputs": [
    {
     "name": "stdout",
     "output_type": "stream",
     "text": [
      "application/json; charset=utf-8\n",
      "[{'body': 'quia et suscipit\\n'\n",
      "          'suscipit recusandae consequuntur expedita et cum\\n'\n",
      "          'reprehenderit molestiae ut ut quas totam\\n'\n",
      "          'nostrum rerum est autem sunt rem eveniet architecto',\n",
      "  'id': 1,\n",
      "  'title': 'sunt aut facere repellat provident occaecati excepturi optio '\n",
      "           'reprehenderit',\n",
      "  'userId': 1},\n",
      " {'body': 'est rerum tempore vitae\\n'\n",
      "          'sequi sint nihil reprehenderit dolor beatae ea dolores neque\\n'\n",
      "          'fugiat blanditiis voluptate porro vel nihil molestiae ut '\n",
      "          'reiciendis\\n'\n",
      "          'qui aperiam non debitis possimus qui neque nisi nulla',\n",
      "  'id': 2,\n",
      "  'title': 'qui est esse',\n",
      "  'userId': 1},\n",
      " {'body': 'et iusto sed quo iure\\n'\n",
      "          'voluptatem occaecati omnis eligendi aut ad\\n'\n",
      "          'voluptatem doloribus vel accusantium quis pariatur\\n'\n",
      "          'molestiae porro eius odio et labore et velit aut',\n",
      "  'id': 3,\n",
      "  'title': 'ea molestias quasi exercitationem repellat qui ipsa sit aut',\n",
      "  'userId': 1},\n",
      " {'body': 'ullam et saepe reiciendis voluptatem adipisci\\n'\n",
      "          'sit amet autem assumenda provident rerum culpa\\n'\n",
      "          'quis hic commodi nesciunt rem tenetur doloremque ipsam iure\\n'\n",
      "          'quis sunt voluptatem rerum illo velit',\n",
      "  'id': 4,\n",
      "  'title': 'eum et est occaecati',\n",
      "  'userId': 1},\n",
      " {'body': 'repudiandae veniam quaerat sunt sed\\n'\n",
      "          'alias aut fugiat sit autem sed est\\n'\n",
      "          'voluptatem omnis possimus esse voluptatibus quis\\n'\n",
      "          'est aut tenetur dolor neque',\n",
      "  'id': 5,\n",
      "  'title': 'nesciunt quas odio',\n",
      "  'userId': 1},\n",
      " {'body': 'ut aspernatur corporis harum nihil quis provident sequi\\n'\n",
      "          'mollitia nobis aliquid molestiae\\n'\n",
      "          'perspiciatis et ea nemo ab reprehenderit accusantium quas\\n'\n",
      "          'voluptate dolores velit et doloremque molestiae',\n",
      "  'id': 6,\n",
      "  'title': 'dolorem eum magni eos aperiam quia',\n",
      "  'userId': 1},\n",
      " {'body': 'dolore placeat quibusdam ea quo vitae\\n'\n",
      "          'magni quis enim qui quis quo nemo aut saepe\\n'\n",
      "          'quidem repellat excepturi ut quia\\n'\n",
      "          'sunt ut sequi eos ea sed quas',\n",
      "  'id': 7,\n",
      "  'title': 'magnam facilis autem',\n",
      "  'userId': 1},\n",
      " {'body': 'dignissimos aperiam dolorem qui eum\\n'\n",
      "          'facilis quibusdam animi sint suscipit qui sint possimus cum\\n'\n",
      "          'quaerat magni maiores excepturi\\n'\n",
      "          'ipsam ut commodi dolor voluptatum modi aut vitae',\n",
      "  'id': 8,\n",
      "  'title': 'dolorem dolore est ipsam',\n",
      "  'userId': 1},\n",
      " {'body': 'consectetur animi nesciunt iure dolore\\n'\n",
      "          'enim quia ad\\n'\n",
      "          'veniam autem ut quam aut nobis\\n'\n",
      "          'et est aut quod aut provident voluptas autem voluptas',\n",
      "  'id': 9,\n",
      "  'title': 'nesciunt iure omnis dolorem tempora et accusantium',\n",
      "  'userId': 1},\n",
      " {'body': 'quo et expedita modi cum officia vel magni\\n'\n",
      "          'doloribus qui repudiandae\\n'\n",
      "          'vero nisi sit\\n'\n",
      "          'quos veniam quod sed accusamus veritatis error',\n",
      "  'id': 10,\n",
      "  'title': 'optio molestias id quia eum',\n",
      "  'userId': 1}]\n"
     ]
    }
   ],
   "source": [
    "#!/usr/bin/env python\n",
    "# coding: utf-8\n",
    "\n",
    "# In[ ]:\n",
    "\n",
    "import requests\n",
    "from pprint import pprint\n",
    "# In[ ]:\n",
    "\n",
    "api_base_url = \"https://jsonplaceholder.typicode.com\" # Actually it is the documentation page\n",
    "# Users endpoint to consume\n",
    "users_endpoint = \"{}/users\".format(api_base_url)\n",
    "# In[ ]:\n",
    "\n",
    "# Let's perform an HTTP GET request, the response will be a JSON array\n",
    "response = requests.get(users_endpoint)\n",
    "print(response.headers.get('Content-Type'))\n",
    "users = response.json()\n",
    "user_1 = users[0]\n",
    "\n",
    "# In[ ]:\n",
    "\n",
    "response = requests.get(\"{}/{}/posts\".format(users_endpoint, user_1['id']))\n",
    "# In[ ]:\n",
    "\n",
    "pprint(response.json())"
   ]
  },
  {
   "cell_type": "code",
   "execution_count": 2,
   "id": "420ac498-6c8e-440c-a2c6-a6be8ca47491",
   "metadata": {},
   "outputs": [],
   "source": [
    "import requests\n",
    "from pprint import pprint\n",
    "\n",
    "api_base_url = \"https://jsonplaceholder.typicode.com\" # Actually it is the documentation page\n",
    "# Users endpoint to consume\n",
    "users_endpoint = f\"{api_base_url}/users\""
   ]
  },
  {
   "cell_type": "code",
   "execution_count": 3,
   "id": "e746186f-7efa-43b8-92c5-863fdea5cd5e",
   "metadata": {},
   "outputs": [],
   "source": [
    "response = requests.get(users_endpoint)"
   ]
  },
  {
   "cell_type": "code",
   "execution_count": 4,
   "id": "eaf3bacc-4a56-4b09-a7a6-a78a22af9ac9",
   "metadata": {},
   "outputs": [
    {
     "data": {
      "text/plain": [
       "['Sincere@april.biz',\n",
       " 'Shanna@melissa.tv',\n",
       " 'Nathan@yesenia.net',\n",
       " 'Julianne.OConner@kory.org',\n",
       " 'Lucio_Hettinger@annie.ca',\n",
       " 'Karley_Dach@jasper.info',\n",
       " 'Telly.Hoeger@billy.biz',\n",
       " 'Sherwood@rosamond.me',\n",
       " 'Chaim_McDermott@dana.io',\n",
       " 'Rey.Padberg@karina.biz']"
      ]
     },
     "execution_count": 4,
     "metadata": {},
     "output_type": "execute_result"
    }
   ],
   "source": [
    "[user[\"email\"] for user in response.json()]"
   ]
  },
  {
   "cell_type": "code",
   "execution_count": 5,
   "id": "d09ddfeb-b39d-45d3-af6e-ef9a3afc22b7",
   "metadata": {},
   "outputs": [
    {
     "data": {
      "text/plain": [
       "100"
      ]
     },
     "execution_count": 5,
     "metadata": {},
     "output_type": "execute_result"
    }
   ],
   "source": [
    "post_endpoint = f\"{api_base_url}/posts\"\n",
    "response = requests.get(post_endpoint)\n",
    "len(response.json())"
   ]
  },
  {
   "cell_type": "code",
   "execution_count": null,
   "id": "5c364823-b16c-444b-ab47-45984241ccd7",
   "metadata": {},
   "outputs": [],
   "source": [
    "response.json()"
   ]
  },
  {
   "cell_type": "code",
   "execution_count": null,
   "id": "08f8f981-80d4-4654-96e6-95d14b34225c",
   "metadata": {},
   "outputs": [],
   "source": [
    "[post[\"userId\"] for post in response.json()]"
   ]
  }
 ],
 "metadata": {
  "kernelspec": {
   "display_name": "Python 3 (ipykernel)",
   "language": "python",
   "name": "python3"
  },
  "language_info": {
   "codemirror_mode": {
    "name": "ipython",
    "version": 3
   },
   "file_extension": ".py",
   "mimetype": "text/x-python",
   "name": "python",
   "nbconvert_exporter": "python",
   "pygments_lexer": "ipython3",
   "version": "3.10.12"
  }
 },
 "nbformat": 4,
 "nbformat_minor": 5
}

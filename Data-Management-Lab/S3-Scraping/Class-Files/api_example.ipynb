{
 "cells": [
  {
   "cell_type": "code",
   "execution_count": 1,
   "metadata": {},
   "outputs": [],
   "source": [
    "import requests\n",
    "from pprint import pprint"
   ]
  },
  {
   "cell_type": "code",
   "execution_count": 2,
   "metadata": {},
   "outputs": [
    {
     "name": "stdout",
     "output_type": "stream",
     "text": [
      "application/json; charset=utf-8\n"
     ]
    },
    {
     "data": {
      "text/plain": [
       "10"
      ]
     },
     "execution_count": 2,
     "metadata": {},
     "output_type": "execute_result"
    }
   ],
   "source": [
    "api_base_url = \"https://jsonplaceholder.typicode.com\" # Actually it is the documentation page\n",
    "# Users endpoint to consume\n",
    "users_endpoint = \"{}/users\".format(api_base_url)\n",
    "# Let's perform an HTTP GET request, the response will be a JSON array\n",
    "response = requests.get(users_endpoint)\n",
    "print(response.headers.get('Content-Type'))\n",
    "users = response.json()\n",
    "user_1 = users[0]\n",
    "len(users)"
   ]
  },
  {
   "cell_type": "code",
   "execution_count": 3,
   "metadata": {},
   "outputs": [
    {
     "name": "stdout",
     "output_type": "stream",
     "text": [
      "[{'body': 'quia et suscipit\\n'\n",
      "          'suscipit recusandae consequuntur expedita et cum\\n'\n",
      "          'reprehenderit molestiae ut ut quas totam\\n'\n",
      "          'nostrum rerum est autem sunt rem eveniet architecto',\n",
      "  'id': 1,\n",
      "  'title': 'sunt aut facere repellat provident occaecati excepturi optio '\n",
      "           'reprehenderit',\n",
      "  'userId': 1},\n",
      " {'body': 'est rerum tempore vitae\\n'\n",
      "          'sequi sint nihil reprehenderit dolor beatae ea dolores neque\\n'\n",
      "          'fugiat blanditiis voluptate porro vel nihil molestiae ut '\n",
      "          'reiciendis\\n'\n",
      "          'qui aperiam non debitis possimus qui neque nisi nulla',\n",
      "  'id': 2,\n",
      "  'title': 'qui est esse',\n",
      "  'userId': 1},\n",
      " {'body': 'et iusto sed quo iure\\n'\n",
      "          'voluptatem occaecati omnis eligendi aut ad\\n'\n",
      "          'voluptatem doloribus vel accusantium quis pariatur\\n'\n",
      "          'molestiae porro eius odio et labore et velit aut',\n",
      "  'id': 3,\n",
      "  'title': 'ea molestias quasi exercitationem repellat qui ipsa sit aut',\n",
      "  'userId': 1},\n",
      " {'body': 'ullam et saepe reiciendis voluptatem adipisci\\n'\n",
      "          'sit amet autem assumenda provident rerum culpa\\n'\n",
      "          'quis hic commodi nesciunt rem tenetur doloremque ipsam iure\\n'\n",
      "          'quis sunt voluptatem rerum illo velit',\n",
      "  'id': 4,\n",
      "  'title': 'eum et est occaecati',\n",
      "  'userId': 1},\n",
      " {'body': 'repudiandae veniam quaerat sunt sed\\n'\n",
      "          'alias aut fugiat sit autem sed est\\n'\n",
      "          'voluptatem omnis possimus esse voluptatibus quis\\n'\n",
      "          'est aut tenetur dolor neque',\n",
      "  'id': 5,\n",
      "  'title': 'nesciunt quas odio',\n",
      "  'userId': 1},\n",
      " {'body': 'ut aspernatur corporis harum nihil quis provident sequi\\n'\n",
      "          'mollitia nobis aliquid molestiae\\n'\n",
      "          'perspiciatis et ea nemo ab reprehenderit accusantium quas\\n'\n",
      "          'voluptate dolores velit et doloremque molestiae',\n",
      "  'id': 6,\n",
      "  'title': 'dolorem eum magni eos aperiam quia',\n",
      "  'userId': 1},\n",
      " {'body': 'dolore placeat quibusdam ea quo vitae\\n'\n",
      "          'magni quis enim qui quis quo nemo aut saepe\\n'\n",
      "          'quidem repellat excepturi ut quia\\n'\n",
      "          'sunt ut sequi eos ea sed quas',\n",
      "  'id': 7,\n",
      "  'title': 'magnam facilis autem',\n",
      "  'userId': 1},\n",
      " {'body': 'dignissimos aperiam dolorem qui eum\\n'\n",
      "          'facilis quibusdam animi sint suscipit qui sint possimus cum\\n'\n",
      "          'quaerat magni maiores excepturi\\n'\n",
      "          'ipsam ut commodi dolor voluptatum modi aut vitae',\n",
      "  'id': 8,\n",
      "  'title': 'dolorem dolore est ipsam',\n",
      "  'userId': 1},\n",
      " {'body': 'consectetur animi nesciunt iure dolore\\n'\n",
      "          'enim quia ad\\n'\n",
      "          'veniam autem ut quam aut nobis\\n'\n",
      "          'et est aut quod aut provident voluptas autem voluptas',\n",
      "  'id': 9,\n",
      "  'title': 'nesciunt iure omnis dolorem tempora et accusantium',\n",
      "  'userId': 1},\n",
      " {'body': 'quo et expedita modi cum officia vel magni\\n'\n",
      "          'doloribus qui repudiandae\\n'\n",
      "          'vero nisi sit\\n'\n",
      "          'quos veniam quod sed accusamus veritatis error',\n",
      "  'id': 10,\n",
      "  'title': 'optio molestias id quia eum',\n",
      "  'userId': 1}]\n"
     ]
    }
   ],
   "source": [
    "response = requests.get(\"{}/{}/posts\".format(users_endpoint, user_1['id']))\n",
    "pprint(response.json())"
   ]
  }
 ],
 "metadata": {
  "kernelspec": {
   "display_name": "Python 3",
   "language": "python",
   "name": "python3"
  },
  "language_info": {
   "codemirror_mode": {
    "name": "ipython",
    "version": 3
   },
   "file_extension": ".py",
   "mimetype": "text/x-python",
   "name": "python",
   "nbconvert_exporter": "python",
   "pygments_lexer": "ipython3",
   "version": "3.10.12"
  }
 },
 "nbformat": 4,
 "nbformat_minor": 4
}
